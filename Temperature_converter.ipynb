{
  "nbformat": 4,
  "nbformat_minor": 0,
  "metadata": {
    "colab": {
      "provenance": [],
      "authorship_tag": "ABX9TyPzOA+fFVqrfD32C8ytaG1o",
      "include_colab_link": true
    },
    "kernelspec": {
      "name": "python3",
      "display_name": "Python 3"
    },
    "language_info": {
      "name": "python"
    }
  },
  "cells": [
    {
      "cell_type": "markdown",
      "metadata": {
        "id": "view-in-github",
        "colab_type": "text"
      },
      "source": [
        "<a href=\"https://colab.research.google.com/github/Jum-eng/Temperature-Converter/blob/main/Temperature_converter.ipynb\" target=\"_parent\"><img src=\"https://colab.research.google.com/assets/colab-badge.svg\" alt=\"Open In Colab\"/></a>"
      ]
    },
    {
      "cell_type": "code",
      "execution_count": 2,
      "metadata": {
        "colab": {
          "base_uri": "https://localhost:8080/"
        },
        "id": "mg2vt3cG5ESr",
        "outputId": "dff91a45-0755-4787-fe5e-11f60e61c49e"
      },
      "outputs": [
        {
          "output_type": "stream",
          "name": "stdout",
          "text": [
            "Enter your name: JUMAH\n",
            "Enter the temperature value: 23\n",
            "Enter 'C' for Celsius or 'F' for Fahrenheit: c\n",
            "Hello JUMAH, 23.00°C is equal to 73.40°F\n"
          ]
        }
      ],
      "source": [
        "def celsius_to_fahrenheit(celsius):\n",
        "    return (celsius * 9/5) + 32\n",
        "\n",
        "def fahrenheit_to_celsius(fahrenheit):\n",
        "    return (fahrenheit - 32) * 5/9\n",
        "\n",
        "# Dictionary for conversion functions\n",
        "conversion_functions = {\n",
        "    'C': celsius_to_fahrenheit,\n",
        "    'F': fahrenheit_to_celsius\n",
        "}\n",
        "\n",
        "# Get user input\n",
        "name = input(\"Enter your name: \")\n",
        "\n",
        "while True:\n",
        "    try:\n",
        "        temp = float(input(\"Enter the temperature value: \"))\n",
        "        break  # Exit loop if input is valid\n",
        "    except ValueError:\n",
        "        print(\"Invalid input. Please enter a numeric temperature.\")\n",
        "\n",
        "while True:\n",
        "    scale = input(\"Enter 'C' for Celsius or 'F' for Fahrenheit: \").strip().upper()\n",
        "    if scale in conversion_functions:\n",
        "        break  # Exit loop if input is valid\n",
        "    print(\"Invalid input. Please enter 'C' or 'F'.\")\n",
        "\n",
        "# Perform conversion\n",
        "converted_temp = conversion_functions[scale](temp)\n",
        "converted_scale = 'F' if scale == 'C' else 'C'\n",
        "\n",
        "print(f\"Hello {name}, {temp:.2f}°{scale} is equal to {converted_temp:.2f}°{converted_scale}\")\n"
      ]
    },
    {
      "cell_type": "code",
      "source": [],
      "metadata": {
        "id": "Q3mVtjoG8k_z"
      },
      "execution_count": null,
      "outputs": []
    }
  ]
}